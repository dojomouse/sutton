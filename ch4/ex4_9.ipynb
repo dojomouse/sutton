{
 "cells": [
  {
   "cell_type": "code",
   "execution_count": 38,
   "metadata": {},
   "outputs": [],
   "source": [
    "import numpy as np\n",
    "import matplotlib.pyplot as plt\n",
    "\n",
    "GOAL = 100\n",
    "REWARD = 1.0\n",
    "HEAD_PROB = 0.4\n",
    "NO_MOVE_ACTION = 0"
   ]
  },
  {
   "cell_type": "code",
   "execution_count": 39,
   "metadata": {},
   "outputs": [],
   "source": [
    "def state_iter():\n",
    "    for s in range(0,GOAL + 1):\n",
    "        yield s\n",
    "    \n",
    "def action_iter(state):\n",
    "    for a in range(0,min(state, GOAL - state) + 1):\n",
    "        yield a\n",
    "    "
   ]
  },
  {
   "cell_type": "code",
   "execution_count": 40,
   "metadata": {},
   "outputs": [],
   "source": [
    "def action_value(state, action):\n",
    "    return HEAD_PROB * values[state + action] + (1 - HEAD_PROB) * values[state - action]\n",
    "\n",
    "def max_value(state):\n",
    "    # return the value for the highest action case\n",
    "    return max([action_value(state, action) for action in action_iter(s)])\n",
    "        "
   ]
  },
  {
   "cell_type": "code",
   "execution_count": 43,
   "metadata": {},
   "outputs": [
    {
     "data": {
      "image/png": "[encoded data removed]",
      "text/plain": [
       "<matplotlib.figure.Figure at 0x113cd7860>"
      ]
     },
     "metadata": {},
     "output_type": "display_data"
    }
   ],
   "source": [
    "values = dict()\n",
    "policy = dict()\n",
    "\n",
    "for s in state_iter():\n",
    "    values[s] = 0.0\n",
    "    \n",
    "values[GOAL] = REWARD\n",
    "\n",
    "\n",
    "while True:\n",
    "    delta = 0\n",
    "    delta_max = 1e-4\n",
    "    for s in state_iter():\n",
    "        # Don't update values of 'broke' or 'victory'\n",
    "        if s in [0, GOAL]:\n",
    "            continue\n",
    "        v_temp = values[s]\n",
    "        values[s] = max_value(s)\n",
    "        delta = max(delta, abs(values[s] - v_temp))\n",
    "    if delta < delta_max:\n",
    "        break\n",
    "\n",
    "for s in state_iter():\n",
    "    if s in [0, GOAL]:\n",
    "        policy[s] = NO_MOVE_ACTION\n",
    "        continue\n",
    "    # explicitly set the policy to the action which results in the highest value from the state\n",
    "    best_action = None\n",
    "    best_reward = -1\n",
    "    for action in action_iter(s):\n",
    "        thisvalue = action_value(s, action)\n",
    "        if thisvalue > best_reward:\n",
    "            best_reward = thisvalue\n",
    "            best_action = action\n",
    "    policy[s] = best_action\n",
    "for state, action in policy.items():\n",
    "    plt.scatter(state,action)\n",
    "plt.show()\n",
    "        \n",
    "    \n",
    "        \n",
    "    "
   ]
  },
  {
   "cell_type": "code",
   "execution_count": null,
   "metadata": {},
   "outputs": [],
   "source": []
  }
 ],
 "metadata": {
  "kernelspec": {
   "display_name": "Python 3",
   "language": "python",
   "name": "python3"
  },
  "language_info": {
   "codemirror_mode": {
    "name": "ipython",
    "version": 3
   },
   "file_extension": ".py",
   "mimetype": "text/x-python",
   "name": "python",
   "nbconvert_exporter": "python",
   "pygments_lexer": "ipython3",
   "version": "3.6.3"
  }
 },
 "nbformat": 4,
 "nbformat_minor": 2
}
